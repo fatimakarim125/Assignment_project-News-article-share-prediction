{
  "cells": [
    {
      "cell_type": "markdown",
      "metadata": {
        "id": "Wf5KrEb6vrkR"
      },
      "source": [
        "\n",
        "\n",
        "<div class=\"markdown-google-sans\">\n",
        "  <h1>Build_Model_for_Prediction</h1>\n",
        "  <p>Building Different Model for Predicting & Evaluating the Accuracy</p>\n",
        "</div>\n",
        "\n",
        "<div>\n",
        "  <h3>Done by- **Kaniz Fatima**, C191284</h3>\n",
        "</div>\n"
      ]
    },
    {
      "cell_type": "markdown",
      "source": [
        "# Installing Requirements-"
      ],
      "metadata": {
        "id": "Lplowh0IGcQq"
      }
    },
    {
      "cell_type": "code",
      "source": [
        "!pip install numpy==1.23.1\n",
        "!pip install pandas==1.4.3\n",
        "!pip install matplotlib==3.3.2\n",
        "!pip install seaborn==0.11.0"
      ],
      "metadata": {
        "id": "LrIfT12EDbOO",
        "outputId": "4fb8cfa1-5e0d-4546-cdc4-6410f55179ae",
        "colab": {
          "base_uri": "https://localhost:8080/"
        }
      },
      "execution_count": null,
      "outputs": [
        {
          "output_type": "stream",
          "name": "stdout",
          "text": [
            "Collecting numpy==1.23.1\n",
            "  Downloading numpy-1.23.1-cp310-cp310-manylinux_2_17_x86_64.manylinux2014_x86_64.whl (17.0 MB)\n",
            "\u001b[2K     \u001b[90m━━━━━━━━━━━━━━━━━━━━━━━━━━━━━━━━━━━━━━━━\u001b[0m \u001b[32m17.0/17.0 MB\u001b[0m \u001b[31m35.4 MB/s\u001b[0m eta \u001b[36m0:00:00\u001b[0m\n",
            "\u001b[?25hInstalling collected packages: numpy\n",
            "  Attempting uninstall: numpy\n",
            "    Found existing installation: numpy 1.23.5\n",
            "    Uninstalling numpy-1.23.5:\n",
            "      Successfully uninstalled numpy-1.23.5\n",
            "\u001b[31mERROR: pip's dependency resolver does not currently take into account all the packages that are installed. This behaviour is the source of the following dependency conflicts.\n",
            "lida 0.0.10 requires fastapi, which is not installed.\n",
            "lida 0.0.10 requires kaleido, which is not installed.\n",
            "lida 0.0.10 requires python-multipart, which is not installed.\n",
            "lida 0.0.10 requires uvicorn, which is not installed.\n",
            "tensorflow 2.15.0 requires numpy<2.0.0,>=1.23.5, but you have numpy 1.23.1 which is incompatible.\u001b[0m\u001b[31m\n",
            "\u001b[0mSuccessfully installed numpy-1.23.1\n"
          ]
        },
        {
          "output_type": "display_data",
          "data": {
            "application/vnd.colab-display-data+json": {
              "pip_warning": {
                "packages": [
                  "numpy"
                ]
              }
            }
          },
          "metadata": {}
        },
        {
          "output_type": "stream",
          "name": "stdout",
          "text": [
            "Collecting pandas==1.4.3\n",
            "  Downloading pandas-1.4.3-cp310-cp310-manylinux_2_17_x86_64.manylinux2014_x86_64.whl (11.6 MB)\n",
            "\u001b[2K     \u001b[90m━━━━━━━━━━━━━━━━━━━━━━━━━━━━━━━━━━━━━━━━\u001b[0m \u001b[32m11.6/11.6 MB\u001b[0m \u001b[31m23.7 MB/s\u001b[0m eta \u001b[36m0:00:00\u001b[0m\n",
            "\u001b[?25hRequirement already satisfied: python-dateutil>=2.8.1 in /usr/local/lib/python3.10/dist-packages (from pandas==1.4.3) (2.8.2)\n",
            "Requirement already satisfied: pytz>=2020.1 in /usr/local/lib/python3.10/dist-packages (from pandas==1.4.3) (2023.3.post1)\n",
            "Requirement already satisfied: numpy>=1.21.0 in /usr/local/lib/python3.10/dist-packages (from pandas==1.4.3) (1.23.1)\n",
            "Requirement already satisfied: six>=1.5 in /usr/local/lib/python3.10/dist-packages (from python-dateutil>=2.8.1->pandas==1.4.3) (1.16.0)\n",
            "Installing collected packages: pandas\n",
            "  Attempting uninstall: pandas\n",
            "    Found existing installation: pandas 1.5.3\n",
            "    Uninstalling pandas-1.5.3:\n",
            "      Successfully uninstalled pandas-1.5.3\n",
            "\u001b[31mERROR: pip's dependency resolver does not currently take into account all the packages that are installed. This behaviour is the source of the following dependency conflicts.\n",
            "lida 0.0.10 requires fastapi, which is not installed.\n",
            "lida 0.0.10 requires kaleido, which is not installed.\n",
            "lida 0.0.10 requires python-multipart, which is not installed.\n",
            "lida 0.0.10 requires uvicorn, which is not installed.\n",
            "bigframes 0.19.0 requires pandas<2.1.4,>=1.5.0, but you have pandas 1.4.3 which is incompatible.\n",
            "google-colab 1.0.0 requires pandas==1.5.3, but you have pandas 1.4.3 which is incompatible.\n",
            "plotnine 0.12.4 requires pandas>=1.5.0, but you have pandas 1.4.3 which is incompatible.\u001b[0m\u001b[31m\n",
            "\u001b[0mSuccessfully installed pandas-1.4.3\n",
            "Collecting matplotlib==3.3.2\n",
            "  Downloading matplotlib-3.3.2.tar.gz (37.9 MB)\n",
            "\u001b[2K     \u001b[90m━━━━━━━━━━━━━━━━━━━━━━━━━━━━━━━━━━━━━━━━\u001b[0m \u001b[32m37.9/37.9 MB\u001b[0m \u001b[31m30.4 MB/s\u001b[0m eta \u001b[36m0:00:00\u001b[0m\n",
            "\u001b[?25h  Preparing metadata (setup.py) ... \u001b[?25l\u001b[?25hdone\n",
            "Requirement already satisfied: certifi>=2020.06.20 in /usr/local/lib/python3.10/dist-packages (from matplotlib==3.3.2) (2023.11.17)\n",
            "Requirement already satisfied: cycler>=0.10 in /usr/local/lib/python3.10/dist-packages (from matplotlib==3.3.2) (0.12.1)\n",
            "Requirement already satisfied: kiwisolver>=1.0.1 in /usr/local/lib/python3.10/dist-packages (from matplotlib==3.3.2) (1.4.5)\n",
            "Requirement already satisfied: numpy>=1.15 in /usr/local/lib/python3.10/dist-packages (from matplotlib==3.3.2) (1.23.1)\n",
            "Requirement already satisfied: pillow>=6.2.0 in /usr/local/lib/python3.10/dist-packages (from matplotlib==3.3.2) (9.4.0)\n",
            "Requirement already satisfied: pyparsing!=2.0.4,!=2.1.2,!=2.1.6,>=2.0.3 in /usr/local/lib/python3.10/dist-packages (from matplotlib==3.3.2) (3.1.1)\n",
            "Requirement already satisfied: python-dateutil>=2.1 in /usr/local/lib/python3.10/dist-packages (from matplotlib==3.3.2) (2.8.2)\n",
            "Requirement already satisfied: six>=1.5 in /usr/local/lib/python3.10/dist-packages (from python-dateutil>=2.1->matplotlib==3.3.2) (1.16.0)\n",
            "Building wheels for collected packages: matplotlib\n",
            "  Building wheel for matplotlib (setup.py) ... \u001b[?25l\u001b[?25hdone\n",
            "  Created wheel for matplotlib: filename=matplotlib-3.3.2-cp310-cp310-linux_x86_64.whl size=11724892 sha256=decba46aa9ec8591d466d81350fad47e776026b115364e9786213e21ac908ffd\n",
            "  Stored in directory: /root/.cache/pip/wheels/a2/1a/72/5701b8be997b9b40bd289d24edca77e18f6a67bd6722aa04b2\n",
            "Successfully built matplotlib\n",
            "Installing collected packages: matplotlib\n",
            "  Attempting uninstall: matplotlib\n",
            "    Found existing installation: matplotlib 3.7.1\n",
            "    Uninstalling matplotlib-3.7.1:\n",
            "      Successfully uninstalled matplotlib-3.7.1\n",
            "\u001b[31mERROR: pip's dependency resolver does not currently take into account all the packages that are installed. This behaviour is the source of the following dependency conflicts.\n",
            "lida 0.0.10 requires fastapi, which is not installed.\n",
            "lida 0.0.10 requires kaleido, which is not installed.\n",
            "lida 0.0.10 requires python-multipart, which is not installed.\n",
            "lida 0.0.10 requires uvicorn, which is not installed.\n",
            "mizani 0.9.3 requires matplotlib>=3.5.0, but you have matplotlib 3.3.2 which is incompatible.\n",
            "plotnine 0.12.4 requires matplotlib>=3.6.0, but you have matplotlib 3.3.2 which is incompatible.\n",
            "plotnine 0.12.4 requires pandas>=1.5.0, but you have pandas 1.4.3 which is incompatible.\n",
            "seaborn 0.13.1 requires matplotlib!=3.6.1,>=3.4, but you have matplotlib 3.3.2 which is incompatible.\u001b[0m\u001b[31m\n",
            "\u001b[0mSuccessfully installed matplotlib-3.3.2\n"
          ]
        },
        {
          "output_type": "display_data",
          "data": {
            "application/vnd.colab-display-data+json": {
              "pip_warning": {
                "packages": [
                  "matplotlib",
                  "mpl_toolkits"
                ]
              }
            }
          },
          "metadata": {}
        },
        {
          "output_type": "stream",
          "name": "stdout",
          "text": [
            "Collecting seaborn==0.11.0\n",
            "  Downloading seaborn-0.11.0-py3-none-any.whl (283 kB)\n",
            "\u001b[?25l     \u001b[90m━━━━━━━━━━━━━━━━━━━━━━━━━━━━━━━━━━━━━━━━\u001b[0m \u001b[32m0.0/283.1 kB\u001b[0m \u001b[31m?\u001b[0m eta \u001b[36m-:--:--\u001b[0m\r\u001b[2K     \u001b[91m━━━━━━━━━━━━━━━\u001b[0m\u001b[91m╸\u001b[0m\u001b[90m━━━━━━━━━━━━━━━━━━━━━━━━\u001b[0m \u001b[32m112.6/283.1 kB\u001b[0m \u001b[31m3.2 MB/s\u001b[0m eta \u001b[36m0:00:01\u001b[0m\r\u001b[2K     \u001b[90m━━━━━━━━━━━━━━━━━━━━━━━━━━━━━━━━━━━━━━━━\u001b[0m \u001b[32m283.1/283.1 kB\u001b[0m \u001b[31m4.5 MB/s\u001b[0m eta \u001b[36m0:00:00\u001b[0m\n",
            "\u001b[?25hRequirement already satisfied: numpy>=1.15 in /usr/local/lib/python3.10/dist-packages (from seaborn==0.11.0) (1.23.1)\n",
            "Requirement already satisfied: scipy>=1.0 in /usr/local/lib/python3.10/dist-packages (from seaborn==0.11.0) (1.11.4)\n",
            "Requirement already satisfied: pandas>=0.23 in /usr/local/lib/python3.10/dist-packages (from seaborn==0.11.0) (1.4.3)\n",
            "Requirement already satisfied: matplotlib>=2.2 in /usr/local/lib/python3.10/dist-packages (from seaborn==0.11.0) (3.3.2)\n",
            "Requirement already satisfied: certifi>=2020.06.20 in /usr/local/lib/python3.10/dist-packages (from matplotlib>=2.2->seaborn==0.11.0) (2023.11.17)\n",
            "Requirement already satisfied: cycler>=0.10 in /usr/local/lib/python3.10/dist-packages (from matplotlib>=2.2->seaborn==0.11.0) (0.12.1)\n",
            "Requirement already satisfied: kiwisolver>=1.0.1 in /usr/local/lib/python3.10/dist-packages (from matplotlib>=2.2->seaborn==0.11.0) (1.4.5)\n",
            "Requirement already satisfied: pillow>=6.2.0 in /usr/local/lib/python3.10/dist-packages (from matplotlib>=2.2->seaborn==0.11.0) (9.4.0)\n",
            "Requirement already satisfied: pyparsing!=2.0.4,!=2.1.2,!=2.1.6,>=2.0.3 in /usr/local/lib/python3.10/dist-packages (from matplotlib>=2.2->seaborn==0.11.0) (3.1.1)\n",
            "Requirement already satisfied: python-dateutil>=2.1 in /usr/local/lib/python3.10/dist-packages (from matplotlib>=2.2->seaborn==0.11.0) (2.8.2)\n",
            "Requirement already satisfied: pytz>=2020.1 in /usr/local/lib/python3.10/dist-packages (from pandas>=0.23->seaborn==0.11.0) (2023.3.post1)\n",
            "Requirement already satisfied: six>=1.5 in /usr/local/lib/python3.10/dist-packages (from python-dateutil>=2.1->matplotlib>=2.2->seaborn==0.11.0) (1.16.0)\n",
            "Installing collected packages: seaborn\n",
            "  Attempting uninstall: seaborn\n",
            "    Found existing installation: seaborn 0.13.1\n",
            "    Uninstalling seaborn-0.13.1:\n",
            "      Successfully uninstalled seaborn-0.13.1\n",
            "\u001b[31mERROR: pip's dependency resolver does not currently take into account all the packages that are installed. This behaviour is the source of the following dependency conflicts.\n",
            "lida 0.0.10 requires fastapi, which is not installed.\n",
            "lida 0.0.10 requires kaleido, which is not installed.\n",
            "lida 0.0.10 requires python-multipart, which is not installed.\n",
            "lida 0.0.10 requires uvicorn, which is not installed.\u001b[0m\u001b[31m\n",
            "\u001b[0mSuccessfully installed seaborn-0.11.0\n"
          ]
        }
      ]
    },
    {
      "cell_type": "markdown",
      "source": [
        "# Importing Necessary Files"
      ],
      "metadata": {
        "id": "dwXQopC4Gk0S"
      }
    },
    {
      "cell_type": "code",
      "source": [
        "import numpy as np\n",
        "import pandas as pd\n",
        "pd.set_option('display.max_rows',None)\n",
        "pd.set_option('display.max_columns',None)\n",
        "from scipy import stats\n",
        "import sklearn\n",
        "from sklearn.model_selection import train_test_split\n",
        "from sklearn.linear_model import LinearRegression, Lasso, Ridge\n",
        "from sklearn import metrics\n",
        "import matplotlib.pyplot as plt\n",
        "import seaborn as sns\n",
        "import os\n",
        "import time\n",
        "import re\n",
        "import warnings\n",
        "warnings.filterwarnings('ignore')"
      ],
      "metadata": {
        "id": "pj4uleARDrM0"
      },
      "execution_count": 1,
      "outputs": []
    },
    {
      "cell_type": "markdown",
      "source": [
        "# Connecting with Drive (/Google Drive)"
      ],
      "metadata": {
        "id": "FjJphUkPGuIZ"
      }
    },
    {
      "cell_type": "code",
      "source": [
        "from google.colab import drive\n",
        "drive.mount('/content/drive')"
      ],
      "metadata": {
        "id": "WrxoILxOEAiO",
        "outputId": "36c71cff-6160-4ff2-b20d-02a8ce3f2dc6",
        "colab": {
          "base_uri": "https://localhost:8080/"
        }
      },
      "execution_count": 2,
      "outputs": [
        {
          "output_type": "stream",
          "name": "stdout",
          "text": [
            "Mounted at /content/drive\n"
          ]
        }
      ]
    },
    {
      "cell_type": "markdown",
      "source": [
        "# Data Loading from Drive & Checking"
      ],
      "metadata": {
        "id": "hClECcRdG2EB"
      }
    },
    {
      "cell_type": "code",
      "source": [
        "data = pd.read_csv('/content/drive/MyDrive/UPDATED_news_share_data_file.csv')\n",
        "data.shape"
      ],
      "metadata": {
        "id": "BsXyXOZ3EFS7",
        "outputId": "eefceee6-7fa4-422d-e951-38957e710706",
        "colab": {
          "base_uri": "https://localhost:8080/"
        }
      },
      "execution_count": 5,
      "outputs": [
        {
          "output_type": "execute_result",
          "data": {
            "text/plain": [
              "(1003, 24)"
            ]
          },
          "metadata": {},
          "execution_count": 5
        }
      ]
    },
    {
      "cell_type": "code",
      "source": [
        "data.head(3)"
      ],
      "metadata": {
        "id": "da4WR0AcFqvB",
        "outputId": "86331fa5-c286-4f1b-a174-4ea16aeec2e8",
        "colab": {
          "base_uri": "https://localhost:8080/",
          "height": 458
        }
      },
      "execution_count": 6,
      "outputs": [
        {
          "output_type": "execute_result",
          "data": {
            "text/plain": [
              "   article_id                                              title  \\\n",
              "0     7014291                 It's Time for a YouTube Competitor   \n",
              "1     7014327  The Ultimate Roundup of 2014's Biggest April F...   \n",
              "2     7014304  A Selfie and One Garish Jacket: How the Red So...   \n",
              "\n",
              "                                                text published_date  \\\n",
              "0  It was reported last week that Yahoo is gettin...     2014-03-31   \n",
              "1  April Fools' marks the day when pranking goes ...     2014-04-01   \n",
              "2  The 2013 World Series champion Boston Red Sox ...     2014-04-01   \n",
              "\n",
              "   unique_tokens_rate  num_hrefs  num_imgs  num_videos  average_token_length  \\\n",
              "0            0.640816          5         3           1              4.579592   \n",
              "1            0.549618          4         1           0              4.636704   \n",
              "2            0.577236          8         1           0              4.627451   \n",
              "\n",
              "   num_keywords data_channel  min_avg_key  max_avg_key  avg_avg_key  \\\n",
              "0             5     Business     1459.500     4817.692     3370.415   \n",
              "1             7         Tech        0.000     3581.094     2556.367   \n",
              "2             7         Tech     2270.889     3852.800     3018.167   \n",
              "\n",
              "   href_avg_shares  global_subjectivity  global_sentiment_polarity  \\\n",
              "0         1833.333             0.403762                   0.038762   \n",
              "1         8500.000             0.410707                   0.180934   \n",
              "2         2076.333             0.397545                   0.044864   \n",
              "\n",
              "   global_rate_positive_words  global_rate_negative_words  title_subjectivity  \\\n",
              "0                    0.036735                    0.024490                0.25   \n",
              "1                    0.044944                    0.003745                0.00   \n",
              "2                    0.035294                    0.019608                0.00   \n",
              "\n",
              "   title_sentiment_polarity  shares  month  day_of_week  \n",
              "0                      0.25    1600      3            0  \n",
              "1                      0.00    1500      4            1  \n",
              "2                      0.00    1400      4            1  "
            ],
            "text/html": [
              "\n",
              "  <div id=\"df-10f4da25-4dc6-4460-a7a0-ee3762b4e7bf\" class=\"colab-df-container\">\n",
              "    <div>\n",
              "<style scoped>\n",
              "    .dataframe tbody tr th:only-of-type {\n",
              "        vertical-align: middle;\n",
              "    }\n",
              "\n",
              "    .dataframe tbody tr th {\n",
              "        vertical-align: top;\n",
              "    }\n",
              "\n",
              "    .dataframe thead th {\n",
              "        text-align: right;\n",
              "    }\n",
              "</style>\n",
              "<table border=\"1\" class=\"dataframe\">\n",
              "  <thead>\n",
              "    <tr style=\"text-align: right;\">\n",
              "      <th></th>\n",
              "      <th>article_id</th>\n",
              "      <th>title</th>\n",
              "      <th>text</th>\n",
              "      <th>published_date</th>\n",
              "      <th>unique_tokens_rate</th>\n",
              "      <th>num_hrefs</th>\n",
              "      <th>num_imgs</th>\n",
              "      <th>num_videos</th>\n",
              "      <th>average_token_length</th>\n",
              "      <th>num_keywords</th>\n",
              "      <th>data_channel</th>\n",
              "      <th>min_avg_key</th>\n",
              "      <th>max_avg_key</th>\n",
              "      <th>avg_avg_key</th>\n",
              "      <th>href_avg_shares</th>\n",
              "      <th>global_subjectivity</th>\n",
              "      <th>global_sentiment_polarity</th>\n",
              "      <th>global_rate_positive_words</th>\n",
              "      <th>global_rate_negative_words</th>\n",
              "      <th>title_subjectivity</th>\n",
              "      <th>title_sentiment_polarity</th>\n",
              "      <th>shares</th>\n",
              "      <th>month</th>\n",
              "      <th>day_of_week</th>\n",
              "    </tr>\n",
              "  </thead>\n",
              "  <tbody>\n",
              "    <tr>\n",
              "      <th>0</th>\n",
              "      <td>7014291</td>\n",
              "      <td>It's Time for a YouTube Competitor</td>\n",
              "      <td>It was reported last week that Yahoo is gettin...</td>\n",
              "      <td>2014-03-31</td>\n",
              "      <td>0.640816</td>\n",
              "      <td>5</td>\n",
              "      <td>3</td>\n",
              "      <td>1</td>\n",
              "      <td>4.579592</td>\n",
              "      <td>5</td>\n",
              "      <td>Business</td>\n",
              "      <td>1459.500</td>\n",
              "      <td>4817.692</td>\n",
              "      <td>3370.415</td>\n",
              "      <td>1833.333</td>\n",
              "      <td>0.403762</td>\n",
              "      <td>0.038762</td>\n",
              "      <td>0.036735</td>\n",
              "      <td>0.024490</td>\n",
              "      <td>0.25</td>\n",
              "      <td>0.25</td>\n",
              "      <td>1600</td>\n",
              "      <td>3</td>\n",
              "      <td>0</td>\n",
              "    </tr>\n",
              "    <tr>\n",
              "      <th>1</th>\n",
              "      <td>7014327</td>\n",
              "      <td>The Ultimate Roundup of 2014's Biggest April F...</td>\n",
              "      <td>April Fools' marks the day when pranking goes ...</td>\n",
              "      <td>2014-04-01</td>\n",
              "      <td>0.549618</td>\n",
              "      <td>4</td>\n",
              "      <td>1</td>\n",
              "      <td>0</td>\n",
              "      <td>4.636704</td>\n",
              "      <td>7</td>\n",
              "      <td>Tech</td>\n",
              "      <td>0.000</td>\n",
              "      <td>3581.094</td>\n",
              "      <td>2556.367</td>\n",
              "      <td>8500.000</td>\n",
              "      <td>0.410707</td>\n",
              "      <td>0.180934</td>\n",
              "      <td>0.044944</td>\n",
              "      <td>0.003745</td>\n",
              "      <td>0.00</td>\n",
              "      <td>0.00</td>\n",
              "      <td>1500</td>\n",
              "      <td>4</td>\n",
              "      <td>1</td>\n",
              "    </tr>\n",
              "    <tr>\n",
              "      <th>2</th>\n",
              "      <td>7014304</td>\n",
              "      <td>A Selfie and One Garish Jacket: How the Red So...</td>\n",
              "      <td>The 2013 World Series champion Boston Red Sox ...</td>\n",
              "      <td>2014-04-01</td>\n",
              "      <td>0.577236</td>\n",
              "      <td>8</td>\n",
              "      <td>1</td>\n",
              "      <td>0</td>\n",
              "      <td>4.627451</td>\n",
              "      <td>7</td>\n",
              "      <td>Tech</td>\n",
              "      <td>2270.889</td>\n",
              "      <td>3852.800</td>\n",
              "      <td>3018.167</td>\n",
              "      <td>2076.333</td>\n",
              "      <td>0.397545</td>\n",
              "      <td>0.044864</td>\n",
              "      <td>0.035294</td>\n",
              "      <td>0.019608</td>\n",
              "      <td>0.00</td>\n",
              "      <td>0.00</td>\n",
              "      <td>1400</td>\n",
              "      <td>4</td>\n",
              "      <td>1</td>\n",
              "    </tr>\n",
              "  </tbody>\n",
              "</table>\n",
              "</div>\n",
              "    <div class=\"colab-df-buttons\">\n",
              "\n",
              "  <div class=\"colab-df-container\">\n",
              "    <button class=\"colab-df-convert\" onclick=\"convertToInteractive('df-10f4da25-4dc6-4460-a7a0-ee3762b4e7bf')\"\n",
              "            title=\"Convert this dataframe to an interactive table.\"\n",
              "            style=\"display:none;\">\n",
              "\n",
              "  <svg xmlns=\"http://www.w3.org/2000/svg\" height=\"24px\" viewBox=\"0 -960 960 960\">\n",
              "    <path d=\"M120-120v-720h720v720H120Zm60-500h600v-160H180v160Zm220 220h160v-160H400v160Zm0 220h160v-160H400v160ZM180-400h160v-160H180v160Zm440 0h160v-160H620v160ZM180-180h160v-160H180v160Zm440 0h160v-160H620v160Z\"/>\n",
              "  </svg>\n",
              "    </button>\n",
              "\n",
              "  <style>\n",
              "    .colab-df-container {\n",
              "      display:flex;\n",
              "      gap: 12px;\n",
              "    }\n",
              "\n",
              "    .colab-df-convert {\n",
              "      background-color: #E8F0FE;\n",
              "      border: none;\n",
              "      border-radius: 50%;\n",
              "      cursor: pointer;\n",
              "      display: none;\n",
              "      fill: #1967D2;\n",
              "      height: 32px;\n",
              "      padding: 0 0 0 0;\n",
              "      width: 32px;\n",
              "    }\n",
              "\n",
              "    .colab-df-convert:hover {\n",
              "      background-color: #E2EBFA;\n",
              "      box-shadow: 0px 1px 2px rgba(60, 64, 67, 0.3), 0px 1px 3px 1px rgba(60, 64, 67, 0.15);\n",
              "      fill: #174EA6;\n",
              "    }\n",
              "\n",
              "    .colab-df-buttons div {\n",
              "      margin-bottom: 4px;\n",
              "    }\n",
              "\n",
              "    [theme=dark] .colab-df-convert {\n",
              "      background-color: #3B4455;\n",
              "      fill: #D2E3FC;\n",
              "    }\n",
              "\n",
              "    [theme=dark] .colab-df-convert:hover {\n",
              "      background-color: #434B5C;\n",
              "      box-shadow: 0px 1px 3px 1px rgba(0, 0, 0, 0.15);\n",
              "      filter: drop-shadow(0px 1px 2px rgba(0, 0, 0, 0.3));\n",
              "      fill: #FFFFFF;\n",
              "    }\n",
              "  </style>\n",
              "\n",
              "    <script>\n",
              "      const buttonEl =\n",
              "        document.querySelector('#df-10f4da25-4dc6-4460-a7a0-ee3762b4e7bf button.colab-df-convert');\n",
              "      buttonEl.style.display =\n",
              "        google.colab.kernel.accessAllowed ? 'block' : 'none';\n",
              "\n",
              "      async function convertToInteractive(key) {\n",
              "        const element = document.querySelector('#df-10f4da25-4dc6-4460-a7a0-ee3762b4e7bf');\n",
              "        const dataTable =\n",
              "          await google.colab.kernel.invokeFunction('convertToInteractive',\n",
              "                                                    [key], {});\n",
              "        if (!dataTable) return;\n",
              "\n",
              "        const docLinkHtml = 'Like what you see? Visit the ' +\n",
              "          '<a target=\"_blank\" href=https://colab.research.google.com/notebooks/data_table.ipynb>data table notebook</a>'\n",
              "          + ' to learn more about interactive tables.';\n",
              "        element.innerHTML = '';\n",
              "        dataTable['output_type'] = 'display_data';\n",
              "        await google.colab.output.renderOutput(dataTable, element);\n",
              "        const docLink = document.createElement('div');\n",
              "        docLink.innerHTML = docLinkHtml;\n",
              "        element.appendChild(docLink);\n",
              "      }\n",
              "    </script>\n",
              "  </div>\n",
              "\n",
              "\n",
              "<div id=\"df-3bcc0965-5201-473c-8bdb-38d87ea5256d\">\n",
              "  <button class=\"colab-df-quickchart\" onclick=\"quickchart('df-3bcc0965-5201-473c-8bdb-38d87ea5256d')\"\n",
              "            title=\"Suggest charts\"\n",
              "            style=\"display:none;\">\n",
              "\n",
              "<svg xmlns=\"http://www.w3.org/2000/svg\" height=\"24px\"viewBox=\"0 0 24 24\"\n",
              "     width=\"24px\">\n",
              "    <g>\n",
              "        <path d=\"M19 3H5c-1.1 0-2 .9-2 2v14c0 1.1.9 2 2 2h14c1.1 0 2-.9 2-2V5c0-1.1-.9-2-2-2zM9 17H7v-7h2v7zm4 0h-2V7h2v10zm4 0h-2v-4h2v4z\"/>\n",
              "    </g>\n",
              "</svg>\n",
              "  </button>\n",
              "\n",
              "<style>\n",
              "  .colab-df-quickchart {\n",
              "      --bg-color: #E8F0FE;\n",
              "      --fill-color: #1967D2;\n",
              "      --hover-bg-color: #E2EBFA;\n",
              "      --hover-fill-color: #174EA6;\n",
              "      --disabled-fill-color: #AAA;\n",
              "      --disabled-bg-color: #DDD;\n",
              "  }\n",
              "\n",
              "  [theme=dark] .colab-df-quickchart {\n",
              "      --bg-color: #3B4455;\n",
              "      --fill-color: #D2E3FC;\n",
              "      --hover-bg-color: #434B5C;\n",
              "      --hover-fill-color: #FFFFFF;\n",
              "      --disabled-bg-color: #3B4455;\n",
              "      --disabled-fill-color: #666;\n",
              "  }\n",
              "\n",
              "  .colab-df-quickchart {\n",
              "    background-color: var(--bg-color);\n",
              "    border: none;\n",
              "    border-radius: 50%;\n",
              "    cursor: pointer;\n",
              "    display: none;\n",
              "    fill: var(--fill-color);\n",
              "    height: 32px;\n",
              "    padding: 0;\n",
              "    width: 32px;\n",
              "  }\n",
              "\n",
              "  .colab-df-quickchart:hover {\n",
              "    background-color: var(--hover-bg-color);\n",
              "    box-shadow: 0 1px 2px rgba(60, 64, 67, 0.3), 0 1px 3px 1px rgba(60, 64, 67, 0.15);\n",
              "    fill: var(--button-hover-fill-color);\n",
              "  }\n",
              "\n",
              "  .colab-df-quickchart-complete:disabled,\n",
              "  .colab-df-quickchart-complete:disabled:hover {\n",
              "    background-color: var(--disabled-bg-color);\n",
              "    fill: var(--disabled-fill-color);\n",
              "    box-shadow: none;\n",
              "  }\n",
              "\n",
              "  .colab-df-spinner {\n",
              "    border: 2px solid var(--fill-color);\n",
              "    border-color: transparent;\n",
              "    border-bottom-color: var(--fill-color);\n",
              "    animation:\n",
              "      spin 1s steps(1) infinite;\n",
              "  }\n",
              "\n",
              "  @keyframes spin {\n",
              "    0% {\n",
              "      border-color: transparent;\n",
              "      border-bottom-color: var(--fill-color);\n",
              "      border-left-color: var(--fill-color);\n",
              "    }\n",
              "    20% {\n",
              "      border-color: transparent;\n",
              "      border-left-color: var(--fill-color);\n",
              "      border-top-color: var(--fill-color);\n",
              "    }\n",
              "    30% {\n",
              "      border-color: transparent;\n",
              "      border-left-color: var(--fill-color);\n",
              "      border-top-color: var(--fill-color);\n",
              "      border-right-color: var(--fill-color);\n",
              "    }\n",
              "    40% {\n",
              "      border-color: transparent;\n",
              "      border-right-color: var(--fill-color);\n",
              "      border-top-color: var(--fill-color);\n",
              "    }\n",
              "    60% {\n",
              "      border-color: transparent;\n",
              "      border-right-color: var(--fill-color);\n",
              "    }\n",
              "    80% {\n",
              "      border-color: transparent;\n",
              "      border-right-color: var(--fill-color);\n",
              "      border-bottom-color: var(--fill-color);\n",
              "    }\n",
              "    90% {\n",
              "      border-color: transparent;\n",
              "      border-bottom-color: var(--fill-color);\n",
              "    }\n",
              "  }\n",
              "</style>\n",
              "\n",
              "  <script>\n",
              "    async function quickchart(key) {\n",
              "      const quickchartButtonEl =\n",
              "        document.querySelector('#' + key + ' button');\n",
              "      quickchartButtonEl.disabled = true;  // To prevent multiple clicks.\n",
              "      quickchartButtonEl.classList.add('colab-df-spinner');\n",
              "      try {\n",
              "        const charts = await google.colab.kernel.invokeFunction(\n",
              "            'suggestCharts', [key], {});\n",
              "      } catch (error) {\n",
              "        console.error('Error during call to suggestCharts:', error);\n",
              "      }\n",
              "      quickchartButtonEl.classList.remove('colab-df-spinner');\n",
              "      quickchartButtonEl.classList.add('colab-df-quickchart-complete');\n",
              "    }\n",
              "    (() => {\n",
              "      let quickchartButtonEl =\n",
              "        document.querySelector('#df-3bcc0965-5201-473c-8bdb-38d87ea5256d button');\n",
              "      quickchartButtonEl.style.display =\n",
              "        google.colab.kernel.accessAllowed ? 'block' : 'none';\n",
              "    })();\n",
              "  </script>\n",
              "</div>\n",
              "    </div>\n",
              "  </div>\n"
            ]
          },
          "metadata": {},
          "execution_count": 6
        }
      ]
    },
    {
      "cell_type": "code",
      "source": [
        "df= data.copy()"
      ],
      "metadata": {
        "id": "i82LBrEnEWsD"
      },
      "execution_count": 7,
      "outputs": []
    },
    {
      "cell_type": "code",
      "source": [
        "df['article_length'] = df['text'].apply(len)\n",
        "df['published_day'] = pd.to_datetime(df['published_date']).dt.day_name()"
      ],
      "metadata": {
        "id": "D09nbi9tGH6D"
      },
      "execution_count": 8,
      "outputs": []
    },
    {
      "cell_type": "code",
      "source": [
        "from sklearn.preprocessing import StandardScaler"
      ],
      "metadata": {
        "id": "46czlFVPGRU0"
      },
      "execution_count": 9,
      "outputs": []
    },
    {
      "cell_type": "code",
      "source": [
        "scaler= StandardScaler()\n",
        "numerical_cols = ['unique_tokens_rate', 'num_hrefs', 'num_imgs', 'num_videos', 'average_token_length', 'article_length']\n",
        "df[numerical_cols] = scaler.fit_transform(df[numerical_cols])"
      ],
      "metadata": {
        "id": "Vo3szwmTGMur"
      },
      "execution_count": 10,
      "outputs": []
    },
    {
      "cell_type": "markdown",
      "source": [
        "# Dropping 'title' & 'text' Columns"
      ],
      "metadata": {
        "id": "nu2gZLTbHDaA"
      }
    },
    {
      "cell_type": "code",
      "source": [
        "df = df.drop(['title', 'text', 'data_channel'], axis=1)"
      ],
      "metadata": {
        "id": "1afzTXRtGdgr"
      },
      "execution_count": 11,
      "outputs": []
    },
    {
      "cell_type": "markdown",
      "source": [
        "# Splitting the Dataset into Features & Target Variable"
      ],
      "metadata": {
        "id": "aAHYeulpGo9N"
      }
    },
    {
      "cell_type": "code",
      "source": [
        "X= df.drop('shares', axis=1)\n",
        "y= df['shares']\n",
        "x_train, x_test, y_train, y_test = train_test_split(X, y, test_size=0.2, random_state=42)"
      ],
      "metadata": {
        "id": "eyzk-AN9GWrs"
      },
      "execution_count": 12,
      "outputs": []
    },
    {
      "cell_type": "markdown",
      "source": [
        "# Training & Testing..."
      ],
      "metadata": {
        "id": "fH6NW-tCG0Ra"
      }
    },
    {
      "cell_type": "code",
      "source": [
        "x_train['published_date'] = pd.to_datetime(x_train['published_date'])\n",
        "x_test['published_date'] = pd.to_datetime(x_test['published_date'])\n",
        "x_train['day_of_week'] = x_train['published_date'].dt.dayofweek\n",
        "x_train['quarter'] = x_train['published_date'].dt.quarter\n",
        "x_test['day_of_week'] = x_test['published_date'].dt.dayofweek\n",
        "x_test['quarter'] = x_test['published_date'].dt.quarter"
      ],
      "metadata": {
        "id": "jNxZeN64G3nc"
      },
      "execution_count": 13,
      "outputs": []
    },
    {
      "cell_type": "markdown",
      "source": [
        "# Finding out Non-Numeric Columns"
      ],
      "metadata": {
        "id": "zWCm2BJ1G-li"
      }
    },
    {
      "cell_type": "code",
      "source": [
        "non_numeric_columns = x_train.select_dtypes(exclude=['number']).columns\n",
        "print(\"Non-numeric columns:\", non_numeric_columns)"
      ],
      "metadata": {
        "colab": {
          "base_uri": "https://localhost:8080/"
        },
        "id": "FcVF7d_AG8Iy",
        "outputId": "fff19e56-5df0-466c-bbc0-72931ea97984"
      },
      "execution_count": 19,
      "outputs": [
        {
          "output_type": "stream",
          "name": "stdout",
          "text": [
            "Non-numeric columns: Index([], dtype='object')\n"
          ]
        }
      ]
    },
    {
      "cell_type": "code",
      "source": [
        "x_train = x_train.drop(non_numeric_columns, axis=1)\n",
        "x_test = x_test.drop(non_numeric_columns, axis=1)"
      ],
      "metadata": {
        "id": "U4cDfCatHXRa"
      },
      "execution_count": 20,
      "outputs": []
    },
    {
      "cell_type": "code",
      "source": [
        "print(\"Infinity values in x_train:\", np.any(np.isinf(x_train)))\n",
        "print(\"Large values in x_train:\", np.any(np.abs(x_train) > 1e15))\n",
        "\n",
        "print(\"Infinity values in y_train:\", np.any(np.isinf(y_train)))\n",
        "print(\"Large values in y_train:\", np.any(np.abs(y_train) > 1e15))"
      ],
      "metadata": {
        "colab": {
          "base_uri": "https://localhost:8080/"
        },
        "id": "YWAFz-rxHGWq",
        "outputId": "e40f16d5-0207-4eb5-bee7-078bb5a8b58d"
      },
      "execution_count": 21,
      "outputs": [
        {
          "output_type": "stream",
          "name": "stdout",
          "text": [
            "Infinity values in x_train: False\n",
            "Large values in x_train: False\n",
            "Infinity values in y_train: False\n",
            "Large values in y_train: False\n"
          ]
        }
      ]
    },
    {
      "cell_type": "markdown",
      "source": [
        "# Replacing Larger values with a Reasonable Value [Training]"
      ],
      "metadata": {
        "id": "mybkAkBeHonD"
      }
    },
    {
      "cell_type": "code",
      "source": [
        "x_train[np.abs(x_train) > 1e15] = np.nan\n",
        "x_train = np.nan_to_num(x_train)"
      ],
      "metadata": {
        "id": "uz4-co-4Hbnp"
      },
      "execution_count": 22,
      "outputs": []
    },
    {
      "cell_type": "code",
      "source": [
        "scaler = StandardScaler()\n",
        "x_train_scaled = scaler.fit_transform(x_train)"
      ],
      "metadata": {
        "id": "SH3Ww7nYH3B6"
      },
      "execution_count": 24,
      "outputs": []
    },
    {
      "cell_type": "markdown",
      "source": [
        "# Replacing Larger values with a Reasonable Value [Testing]"
      ],
      "metadata": {
        "id": "cJcqN1WtIGhx"
      }
    },
    {
      "cell_type": "code",
      "source": [
        "x_test[np.abs(x_test) > 1e15] = np.nan\n",
        "x_test = np.nan_to_num(x_test)"
      ],
      "metadata": {
        "id": "901ugWwJIBir"
      },
      "execution_count": 25,
      "outputs": []
    },
    {
      "cell_type": "code",
      "source": [
        "x_test_scaled = scaler.transform(x_test)"
      ],
      "metadata": {
        "id": "2lsxgd2wIMcw"
      },
      "execution_count": 26,
      "outputs": []
    },
    {
      "cell_type": "markdown",
      "source": [
        "# Model 1: Linear Regression\n"
      ],
      "metadata": {
        "id": "BOzsrTPVIieJ"
      }
    },
    {
      "cell_type": "code",
      "source": [
        "# Traing\n",
        "\n",
        "linear_reg = LinearRegression()\n",
        "linear_reg.fit(x_train,y_train)\n",
        "print(\"Training R2 score: \"+ str(linear_reg.score(x_train,y_train)))"
      ],
      "metadata": {
        "colab": {
          "base_uri": "https://localhost:8080/"
        },
        "id": "5vb31Ei2IZYC",
        "outputId": "364e38bb-5875-4f9b-d611-fea40e905095"
      },
      "execution_count": 27,
      "outputs": [
        {
          "output_type": "stream",
          "name": "stdout",
          "text": [
            "Training R2 score: 0.07146572387858952\n"
          ]
        }
      ]
    },
    {
      "cell_type": "code",
      "source": [
        "# Predicting & Evaluating the Accuracy\n",
        "\n",
        "preds_lr = linear_reg.predict(x_test)\n",
        "print(\"Test R2 score: \"+ str(metrics.r2_score(y_test,preds_lr)))\n",
        "print(\"Test MAE: \"+ str(metrics.mean_absolute_error(y_test,preds_lr)))\n",
        "print(\"Test RMSE: \"+ str(np.sqrt(metrics.mean_squared_error(y_test,preds_lr))))"
      ],
      "metadata": {
        "colab": {
          "base_uri": "https://localhost:8080/"
        },
        "id": "XOEhMakeJeLa",
        "outputId": "7797aafa-aeaa-4e72-bc42-ff938860c01b"
      },
      "execution_count": 28,
      "outputs": [
        {
          "output_type": "stream",
          "name": "stdout",
          "text": [
            "Test R2 score: -0.0038594436949819233\n",
            "Test MAE: 6608.183365530749\n",
            "Test RMSE: 46736.54506987126\n"
          ]
        }
      ]
    },
    {
      "cell_type": "code",
      "source": [
        "# Plotting the Predicted & Actual Data\n",
        "\n",
        "plt.figure(figsize=(10,8))\n",
        "plt.scatter(y_test,preds_lr)\n",
        "plt.xlabel(\"Actual Data\")\n",
        "plt.ylabel(\"Our Model's Predicted Data\")\n",
        "plt.show()"
      ],
      "metadata": {
        "colab": {
          "base_uri": "https://localhost:8080/",
          "height": 696
        },
        "id": "IFobXGhNJ03K",
        "outputId": "80f07843-2837-4205-96db-4d5a4d5b3d57"
      },
      "execution_count": 30,
      "outputs": [
        {
          "output_type": "display_data",
          "data": {
            "text/plain": [
              "<Figure size 1000x800 with 1 Axes>"
            ],
            "image/png": "[encoded data removed]"
          },
          "metadata": {}
        }
      ]
    },
    {
      "cell_type": "markdown",
      "source": [
        "# Model 2: Lasso Regression: (L1 Regularization)"
      ],
      "metadata": {
        "id": "x4QMQFpnKJQh"
      }
    },
    {
      "cell_type": "code",
      "source": [
        "# Training\n",
        "\n",
        "from sklearn.linear_model import Lasso\n",
        "las = Lasso()\n",
        "las.fit(x_train,y_train)\n",
        "print(\"Training R2 score: \"+ str(las.score(x_train,y_train)))"
      ],
      "metadata": {
        "colab": {
          "base_uri": "https://localhost:8080/"
        },
        "id": "uC_Hl7m2K8yG",
        "outputId": "04ba43c4-2cf1-4370-b06d-a88ee23aefc7"
      },
      "execution_count": 34,
      "outputs": [
        {
          "output_type": "stream",
          "name": "stdout",
          "text": [
            "Training R2 score: 0.07096054254545203\n"
          ]
        }
      ]
    },
    {
      "cell_type": "code",
      "source": [
        "# Predicting & Evaluating the Accuracy\n",
        "\n",
        "preds_las = las.predict(x_test).reshape(-1,1)\n",
        "print(\"Test R2 score: \"+ str(metrics.r2_score(y_test,preds_las)))\n",
        "print(\"Test MAE: \"+ str(metrics.mean_absolute_error(y_test,preds_las)))\n",
        "print(\"Test RMSE: \"+ str(np.sqrt(metrics.mean_squared_error(y_test,preds_las))))"
      ],
      "metadata": {
        "colab": {
          "base_uri": "https://localhost:8080/"
        },
        "id": "rKaej0_OLBX-",
        "outputId": "6da2ec9d-96c9-45c6-8d2a-1a286d074ede"
      },
      "execution_count": 35,
      "outputs": [
        {
          "output_type": "stream",
          "name": "stdout",
          "text": [
            "Test R2 score: -0.0031790760123870943\n",
            "Test MAE: 6577.041932625255\n",
            "Test RMSE: 46720.7044934425\n"
          ]
        }
      ]
    },
    {
      "cell_type": "code",
      "source": [
        "# Plotting the Predicted & Actual Data\n",
        "\n",
        "plt.figure(figsize=(10,8))\n",
        "plt.scatter(y_test,preds_las)\n",
        "plt.xlabel(\"Actual Data\")\n",
        "plt.ylabel(\"Our Model's Predicted Data\")\n",
        "plt.show()"
      ],
      "metadata": {
        "colab": {
          "base_uri": "https://localhost:8080/",
          "height": 696
        },
        "id": "r49zEFUBLMZX",
        "outputId": "62ec5201-aa17-450c-9ba8-c8c4f41c5e50"
      },
      "execution_count": 36,
      "outputs": [
        {
          "output_type": "display_data",
          "data": {
            "text/plain": [
              "<Figure size 1000x800 with 1 Axes>"
            ],
            "image/png": "[encoded data removed]"
          },
          "metadata": {}
        }
      ]
    },
    {
      "cell_type": "markdown",
      "source": [
        "# Model 3: Ridge Regression: (L2 Regularization)"
      ],
      "metadata": {
        "id": "YXFyIYIHKLPI"
      }
    },
    {
      "cell_type": "code",
      "source": [
        "# Training\n",
        "\n",
        "from sklearn.linear_model import Ridge\n",
        "ridge = Ridge()\n",
        "ridge.fit(x_train,y_train)\n",
        "print(\"Training R2 score: \"+ str(ridge.score(x_train,y_train)))"
      ],
      "metadata": {
        "colab": {
          "base_uri": "https://localhost:8080/"
        },
        "id": "pL5jMQvTKXwQ",
        "outputId": "0a5d1c5c-c289-400d-874f-38b4c7ab04e2"
      },
      "execution_count": 31,
      "outputs": [
        {
          "output_type": "stream",
          "name": "stdout",
          "text": [
            "Training R2 score: 0.06719103998633602\n"
          ]
        }
      ]
    },
    {
      "cell_type": "code",
      "source": [
        "# Predicting & Evaluating the Accuracy\n",
        "\n",
        "preds_rid = ridge.predict(x_test)\n",
        "print(\"Test R2 score: \"+ str(metrics.r2_score(y_test,preds_rid)))\n",
        "print(\"Test MAE: \"+ str(metrics.mean_absolute_error(y_test,preds_rid)))\n",
        "print(\"Test RMSE: \"+ str(np.sqrt(metrics.mean_squared_error(y_test,preds_rid))))"
      ],
      "metadata": {
        "colab": {
          "base_uri": "https://localhost:8080/"
        },
        "id": "90JtUP9TKdX4",
        "outputId": "a005fe4c-37e4-4e2f-9377-70de393cf2e9"
      },
      "execution_count": 32,
      "outputs": [
        {
          "output_type": "stream",
          "name": "stdout",
          "text": [
            "Test R2 score: -0.002607472779496245\n",
            "Test MAE: 6537.916624570592\n",
            "Test RMSE: 46707.392059188525\n"
          ]
        }
      ]
    },
    {
      "cell_type": "code",
      "source": [
        "# Plotting the Predicted & Actual Data\n",
        "\n",
        "plt.figure(figsize=(10,8))\n",
        "plt.scatter(y_test,preds_rid)\n",
        "plt.xlabel(\"Actual Data\")\n",
        "plt.ylabel(\"Our Model's Predicted Data\")\n",
        "plt.show()"
      ],
      "metadata": {
        "colab": {
          "base_uri": "https://localhost:8080/",
          "height": 696
        },
        "id": "vmFFczEIKpdQ",
        "outputId": "aae5c091-70bc-4df3-963c-22fad97f423a"
      },
      "execution_count": 33,
      "outputs": [
        {
          "output_type": "display_data",
          "data": {
            "text/plain": [
              "<Figure size 1000x800 with 1 Axes>"
            ],
            "image/png": "[encoded data removed]"
          },
          "metadata": {}
        }
      ]
    },
    {
      "cell_type": "markdown",
      "source": [
        "# The End!\n",
        "Done by- **Kaniz fatima**, C191284"
      ],
      "metadata": {
        "id": "JKgWnLdUKTV1"
      }
    }
  ],
  "metadata": {
    "colab": {
      "provenance": [],
      "collapsed_sections": [
        "Lplowh0IGcQq"
      ]
    },
    "kernelspec": {
      "display_name": "Python 3",
      "name": "python3"
    }
  },
  "nbformat": 4,
  "nbformat_minor": 0
}
